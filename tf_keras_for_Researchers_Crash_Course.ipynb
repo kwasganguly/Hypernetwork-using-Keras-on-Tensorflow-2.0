{
  "nbformat": 4,
  "nbformat_minor": 0,
  "metadata": {
    "colab": {
      "name": "tf.keras for Researchers: Crash Course.ipynb",
      "version": "0.3.2",
      "provenance": [],
      "collapsed_sections": [],
      "include_colab_link": true
    },
    "kernelspec": {
      "name": "python3",
      "display_name": "Python 3"
    }
  },
  "cells": [
    {
      "cell_type": "markdown",
      "metadata": {
        "id": "view-in-github",
        "colab_type": "text"
      },
      "source": [
        "<a href=\"https://colab.research.google.com/github/kwasganguly/Hypernetwork-using-Keras-on-Tensorflow-2.0/blob/master/tf_keras_for_Researchers_Crash_Course.ipynb\" target=\"_parent\"><img src=\"https://colab.research.google.com/assets/colab-badge.svg\" alt=\"Open In Colab\"/></a>"
      ]
    },
    {
      "metadata": {
        "id": "0IPokL4mivsz",
        "colab_type": "code",
        "colab": {
          "base_uri": "https://localhost:8080/",
          "height": 530
        },
        "outputId": "19900060-7949-4abb-e3cf-354308efe7ca"
      },
      "cell_type": "code",
      "source": [
        "!pip install tf-nightly-gpu-2.0-preview"
      ],
      "execution_count": 1,
      "outputs": [
        {
          "output_type": "stream",
          "text": [
            "Collecting tf-nightly-gpu-2.0-preview\n",
            "\u001b[?25l  Downloading https://files.pythonhosted.org/packages/97/76/5ec202166c88f945c699c39481ce2fb05183e1aa8b83bd4249572520d00f/tf_nightly_gpu_2.0_preview-2.0.0.dev20190323-cp36-cp36m-manylinux1_x86_64.whl (337.4MB)\n",
            "\u001b[K    100% |████████████████████████████████| 337.4MB 46kB/s \n",
            "\u001b[?25hRequirement already satisfied: numpy<2.0,>=1.14.5 in /usr/local/lib/python3.6/dist-packages (from tf-nightly-gpu-2.0-preview) (1.14.6)\n",
            "Requirement already satisfied: grpcio>=1.8.6 in /usr/local/lib/python3.6/dist-packages (from tf-nightly-gpu-2.0-preview) (1.15.0)\n",
            "Collecting tb-nightly<1.15.0a0,>=1.14.0a0 (from tf-nightly-gpu-2.0-preview)\n",
            "\u001b[?25l  Downloading https://files.pythonhosted.org/packages/5d/17/a3d05a0664c11703259aa79d2b58b871b3bb1fff24153f75db04540489db/tb_nightly-1.14.0a20190319-py3-none-any.whl (3.0MB)\n",
            "\u001b[K    100% |████████████████████████████████| 3.0MB 8.7MB/s \n",
            "\u001b[?25hRequirement already satisfied: termcolor>=1.1.0 in /usr/local/lib/python3.6/dist-packages (from tf-nightly-gpu-2.0-preview) (1.1.0)\n",
            "Requirement already satisfied: absl-py>=0.7.0 in /usr/local/lib/python3.6/dist-packages (from tf-nightly-gpu-2.0-preview) (0.7.1)\n",
            "Requirement already satisfied: six>=1.10.0 in /usr/local/lib/python3.6/dist-packages (from tf-nightly-gpu-2.0-preview) (1.11.0)\n",
            "Requirement already satisfied: keras-preprocessing>=1.0.5 in /usr/local/lib/python3.6/dist-packages (from tf-nightly-gpu-2.0-preview) (1.0.9)\n",
            "Collecting google-pasta>=0.1.2 (from tf-nightly-gpu-2.0-preview)\n",
            "\u001b[?25l  Downloading https://files.pythonhosted.org/packages/8c/96/adbd4eafe72ce9b5ca6f168fbf109386e1b601f7c59926a11e9d7b7a5b44/google_pasta-0.1.4-py3-none-any.whl (51kB)\n",
            "\u001b[K    100% |████████████████████████████████| 61kB 24.0MB/s \n",
            "\u001b[?25hRequirement already satisfied: astor>=0.6.0 in /usr/local/lib/python3.6/dist-packages (from tf-nightly-gpu-2.0-preview) (0.7.1)\n",
            "Requirement already satisfied: wheel>=0.26 in /usr/local/lib/python3.6/dist-packages (from tf-nightly-gpu-2.0-preview) (0.33.1)\n",
            "Collecting tensorflow-estimator-2.0-preview (from tf-nightly-gpu-2.0-preview)\n",
            "\u001b[?25l  Downloading https://files.pythonhosted.org/packages/35/75/f9579f098489bd25298d1b1dff69f775b6bc88c47e495d845b66495bfb91/tensorflow_estimator_2.0_preview-1.14.0.dev2019032400-py2.py3-none-any.whl (351kB)\n",
            "\u001b[K    100% |████████████████████████████████| 358kB 12.2MB/s \n",
            "\u001b[?25hRequirement already satisfied: protobuf>=3.6.1 in /usr/local/lib/python3.6/dist-packages (from tf-nightly-gpu-2.0-preview) (3.7.0)\n",
            "Requirement already satisfied: gast>=0.2.0 in /usr/local/lib/python3.6/dist-packages (from tf-nightly-gpu-2.0-preview) (0.2.2)\n",
            "Requirement already satisfied: keras-applications>=1.0.6 in /usr/local/lib/python3.6/dist-packages (from tf-nightly-gpu-2.0-preview) (1.0.7)\n",
            "Requirement already satisfied: werkzeug>=0.11.15 in /usr/local/lib/python3.6/dist-packages (from tb-nightly<1.15.0a0,>=1.14.0a0->tf-nightly-gpu-2.0-preview) (0.14.1)\n",
            "Requirement already satisfied: markdown>=2.6.8 in /usr/local/lib/python3.6/dist-packages (from tb-nightly<1.15.0a0,>=1.14.0a0->tf-nightly-gpu-2.0-preview) (3.0.1)\n",
            "Requirement already satisfied: setuptools in /usr/local/lib/python3.6/dist-packages (from protobuf>=3.6.1->tf-nightly-gpu-2.0-preview) (40.8.0)\n",
            "Requirement already satisfied: h5py in /usr/local/lib/python3.6/dist-packages (from keras-applications>=1.0.6->tf-nightly-gpu-2.0-preview) (2.8.0)\n",
            "Installing collected packages: tb-nightly, google-pasta, tensorflow-estimator-2.0-preview, tf-nightly-gpu-2.0-preview\n",
            "Successfully installed google-pasta-0.1.4 tb-nightly-1.14.0a20190319 tensorflow-estimator-2.0-preview-1.14.0.dev2019032400 tf-nightly-gpu-2.0-preview-2.0.0.dev20190323\n"
          ],
          "name": "stdout"
        }
      ]
    },
    {
      "metadata": {
        "id": "rwREGJ7Wiyl9",
        "colab_type": "code",
        "outputId": "c3b6a767-bdd9-440f-c792-ec3c9a719a0a",
        "colab": {
          "base_uri": "https://localhost:8080/",
          "height": 34
        }
      },
      "cell_type": "code",
      "source": [
        "import tensorflow as tf\n",
        "\n",
        "tf.__version__"
      ],
      "execution_count": 2,
      "outputs": [
        {
          "output_type": "execute_result",
          "data": {
            "text/plain": [
              "'2.0.0-dev20190323'"
            ]
          },
          "metadata": {
            "tags": []
          },
          "execution_count": 2
        }
      ]
    },
    {
      "metadata": {
        "id": "xEuWqzjlPobA",
        "colab_type": "text"
      },
      "cell_type": "markdown",
      "source": [
        "# tf.keras for Researchers:\n",
        "\n",
        "This notebook is a crash course on everything you need to know to use TensorFlow 2.0 for deep learning research."
      ]
    },
    {
      "metadata": {
        "id": "cttOYWBtPx9f",
        "colab_type": "text"
      },
      "cell_type": "markdown",
      "source": [
        "1) The first class you need to know is `Layer`. A Layer encapsulates a state (weights) and some computation (defined in the `call` method).\n"
      ]
    },
    {
      "metadata": {
        "id": "67-lEi5tjYwd",
        "colab_type": "code",
        "colab": {}
      },
      "cell_type": "code",
      "source": [
        "from tensorflow.keras.layers import Layer\n",
        "\n",
        "\n",
        "class Linear(Layer):\n",
        "  \"\"\"y = w.x + b\"\"\"\n",
        "\n",
        "  def __init__(self, units=32, input_dim=32):\n",
        "      super(Linear, self).__init__()\n",
        "      w_init = tf.random_normal_initializer()\n",
        "      self.w = tf.Variable(\n",
        "          initial_value=w_init(shape=(input_dim, units), dtype='float32'),\n",
        "          trainable=True)\n",
        "      b_init = tf.zeros_initializer()\n",
        "      self.b = tf.Variable(\n",
        "          initial_value=b_init(shape=(units,), dtype='float32'),\n",
        "          trainable=True)\n",
        "\n",
        "  def call(self, inputs):\n",
        "      return tf.matmul(inputs, self.w) + self.b\n",
        "\n",
        "\n",
        "# Instantiate our layer.\n",
        "linear_layer = Linear(4, 2)\n",
        "\n",
        "# The layer can be treated as a function.\n",
        "# Here we call it on some data.\n",
        "y = linear_layer(tf.ones((2, 2)))\n",
        "assert y.shape == (2, 4)\n",
        "\n",
        "# Weights are automatically tracked under the `weights` property.\n",
        "assert linear_layer.weights == [linear_layer.w, linear_layer.b]"
      ],
      "execution_count": 0,
      "outputs": []
    },
    {
      "metadata": {
        "id": "6O77qfbqPn06",
        "colab_type": "text"
      },
      "cell_type": "markdown",
      "source": [
        "2) The `add_weight` method gives you a shortcut for creating weights.\n",
        "\n",
        "3) It’s good practice to create weights in a separate `build` method, called lazily with the shape of the first inputs seen by your layer. Here, this pattern prevents us from having to specify `input_dim` in the constructor:\n"
      ]
    },
    {
      "metadata": {
        "id": "0SnzTy1Rjyi_",
        "colab_type": "code",
        "colab": {}
      },
      "cell_type": "code",
      "source": [
        "class Linear(Layer):\n",
        "  \"\"\"y = w.x + b\"\"\"\n",
        "\n",
        "  def __init__(self, units=32):\n",
        "      super(Linear, self).__init__()\n",
        "      self.units = units\n",
        "\n",
        "  def build(self, input_shape):\n",
        "      self.w = self.add_weight(shape=(input_shape[-1], self.units),\n",
        "                               initializer='random_normal',\n",
        "                               trainable=True)\n",
        "      self.b = self.add_weight(shape=(self.units,),\n",
        "                               initializer='random_normal',\n",
        "                               trainable=True)\n",
        "\n",
        "  def call(self, inputs):\n",
        "      return tf.matmul(inputs, self.w) + self.b\n",
        "\n",
        "\n",
        "# Instantiate our lazy layer.\n",
        "linear_layer = Linear(4)\n",
        "\n",
        "# This will also call `build(input_shape)` and create the weights.\n",
        "y = linear_layer(tf.ones((2, 2)))"
      ],
      "execution_count": 0,
      "outputs": []
    },
    {
      "metadata": {
        "id": "MCyO_yLFQv4I",
        "colab_type": "text"
      },
      "cell_type": "markdown",
      "source": [
        "4) You can automatically retrieve the gradients of the weights of a layer by calling it inside a `GradientTape`.  Using these gradients, you can update the weights of the layer, either manually, or using an optimizer object. Of course, you can modify the gradients before using them, if you need to."
      ]
    },
    {
      "metadata": {
        "id": "UHOOlixcQ9Gl",
        "colab_type": "code",
        "outputId": "dfc4998e-0ed0-48a8-b49a-43ea59622516",
        "colab": {
          "base_uri": "https://localhost:8080/",
          "height": 221
        }
      },
      "cell_type": "code",
      "source": [
        "# Prepare a dataset.\n",
        "(x_train, y_train), _ = tf.keras.datasets.mnist.load_data()\n",
        "dataset = tf.data.Dataset.from_tensor_slices(\n",
        "    (x_train.reshape(60000, 784).astype('float32') / 255, y_train))\n",
        "dataset = dataset.shuffle(buffer_size=1024).batch(64)\n",
        "\n",
        "# Instantiate our linear layer (defined above) with 10 units.\n",
        "linear_layer = Linear(10)\n",
        "\n",
        "# Instantiate a logistic loss function that expects integer targets.\n",
        "loss_fn = tf.keras.losses.SparseCategoricalCrossentropy(from_logits=True)\n",
        "\n",
        "# Instantiate an optimizer.\n",
        "optimizer = tf.keras.optimizers.SGD(learning_rate=1e-3)\n",
        "\n",
        "# Iterate over the batches of the dataset.\n",
        "for step, (x, y) in enumerate(dataset):\n",
        "  \n",
        "  # Open a GradientTape.\n",
        "  with tf.GradientTape() as tape:\n",
        "\n",
        "    # Forward pass.\n",
        "    logits = linear_layer(x)\n",
        "\n",
        "    # Loss value for this batch.\n",
        "    loss = loss_fn(y, logits)\n",
        "     \n",
        "  # Get gradients of weights wrt the loss.\n",
        "  gradients = tape.gradient(loss, linear_layer.trainable_weights)\n",
        "  \n",
        "  # Update the weights of our linear layer.\n",
        "  optimizer.apply_gradients(zip(gradients, linear_layer.trainable_weights))\n",
        "  \n",
        "  # Logging.\n",
        "  if step % 100 == 0:\n",
        "    print(step, float(loss))"
      ],
      "execution_count": 6,
      "outputs": [
        {
          "output_type": "stream",
          "text": [
            "Downloading data from https://storage.googleapis.com/tensorflow/tf-keras-datasets/mnist.npz\n",
            "11493376/11490434 [==============================] - 0s 0us/step\n",
            "0 2.442819356918335\n",
            "100 2.235952377319336\n",
            "200 2.1712589263916016\n",
            "300 2.0394351482391357\n",
            "400 2.0120344161987305\n",
            "500 1.863042950630188\n",
            "600 1.8589389324188232\n",
            "700 1.745722770690918\n",
            "800 1.706221580505371\n",
            "900 1.7238972187042236\n"
          ],
          "name": "stdout"
        }
      ]
    },
    {
      "metadata": {
        "id": "Ghnbq7zeQJ6H",
        "colab_type": "text"
      },
      "cell_type": "markdown",
      "source": [
        "5) Weights created by layers can be either trainable or non-trainable. They're exposed in `trainable_weights` and `non_trainable_weights`. Here's a layer with a non-trainable weight:"
      ]
    },
    {
      "metadata": {
        "id": "TdAF5xWFj9vp",
        "colab_type": "code",
        "outputId": "5302e7e6-be50-48ad-f456-997532946293",
        "colab": {
          "base_uri": "https://localhost:8080/",
          "height": 51
        }
      },
      "cell_type": "code",
      "source": [
        "class ComputeSum(Layer):\n",
        "  \"\"\"Returns the sum of the inputs.\"\"\"\n",
        "\n",
        "  def __init__(self, input_dim):\n",
        "      super(ComputeSum, self).__init__()\n",
        "      # Create a non-trainable weight.\n",
        "      self.total = tf.Variable(initial_value=tf.zeros((input_dim,)),\n",
        "                               trainable=False)\n",
        "\n",
        "  def call(self, inputs):\n",
        "      self.total.assign_add(tf.reduce_sum(inputs, axis=0))\n",
        "      return self.total  \n",
        "\n",
        "my_sum = ComputeSum(2)\n",
        "x = tf.ones((2, 2))\n",
        "\n",
        "y = my_sum(x)\n",
        "print(y.numpy())  # [2. 2.]\n",
        "\n",
        "y = my_sum(x)\n",
        "print(y.numpy())  # [4. 4.]\n",
        "\n",
        "assert my_sum.weights == [my_sum.total]\n",
        "assert my_sum.non_trainable_weights == [my_sum.total]\n",
        "assert my_sum.trainable_weights == []"
      ],
      "execution_count": 8,
      "outputs": [
        {
          "output_type": "stream",
          "text": [
            "[2. 2.]\n",
            "[4. 4.]\n"
          ],
          "name": "stdout"
        }
      ]
    },
    {
      "metadata": {
        "id": "2f-IqdBvQqVW",
        "colab_type": "text"
      },
      "cell_type": "markdown",
      "source": [
        "6) Layers can be recursively nested to create bigger computation blocks. Each layer will track the weights of its sublayers (both trainable and non-trainable)."
      ]
    },
    {
      "metadata": {
        "id": "4so7zVstj_Js",
        "colab_type": "code",
        "colab": {}
      },
      "cell_type": "code",
      "source": [
        "# Let's reuse the Linear class\n",
        "# with a `build` method that we defined above.\n",
        "\n",
        "class MLP(Layer):\n",
        "    \"\"\"Simple stack of Linear layers.\"\"\"\n",
        "\n",
        "    def __init__(self):\n",
        "        super(MLP, self).__init__()\n",
        "        self.linear_1 = Linear(32)\n",
        "        self.linear_2 = Linear(32)\n",
        "        self.linear_3 = Linear(10)\n",
        "\n",
        "    def call(self, inputs):\n",
        "        x = self.linear_1(inputs)\n",
        "        x = tf.nn.relu(x)\n",
        "        x = self.linear_2(x)\n",
        "        x = tf.nn.relu(x)\n",
        "        return self.linear_3(x)\n",
        "\n",
        "mlp = MLP()\n",
        "\n",
        "# The first call to the `mlp` object will create the weights.\n",
        "y = mlp(tf.ones(shape=(3, 64)))\n",
        "\n",
        "# Weights are recursively tracked.\n",
        "assert len(mlp.weights) == 6"
      ],
      "execution_count": 0,
      "outputs": []
    },
    {
      "metadata": {
        "id": "Eg-3_LxhUhGX",
        "colab_type": "text"
      },
      "cell_type": "markdown",
      "source": [
        "7) Layers can create losses during the forward pass. This is especially useful for regularization losses. The losses created by sublayers are recursively tracked by the parent layers."
      ]
    },
    {
      "metadata": {
        "id": "cnGNfHAWTvGe",
        "colab_type": "code",
        "outputId": "24533b83-0b21-44f7-926d-500bfc840099",
        "colab": {
          "base_uri": "https://localhost:8080/",
          "height": 34
        }
      },
      "cell_type": "code",
      "source": [
        "class ActivityRegularization(Layer):\n",
        "  \"\"\"Layer that creates an activity sparsity regularization loss.\"\"\"\n",
        "  \n",
        "  def __init__(self, rate=1e-2):\n",
        "    super(ActivityRegularization, self).__init__()\n",
        "    self.rate = rate\n",
        "  \n",
        "  def call(self, inputs):\n",
        "    # We use `add_loss` to create a regularization loss\n",
        "    # that depends on the inputs.\n",
        "    self.add_loss(self.rate * tf.reduce_sum(inputs))\n",
        "    return inputs\n",
        "\n",
        "\n",
        "# Let's use the loss layer in a MLP block.\n",
        "\n",
        "class SparseMLP(Layer):\n",
        "  \"\"\"Stack of Linear layers with a sparsity regularization loss.\"\"\"\n",
        "\n",
        "  def __init__(self):\n",
        "      super(SparseMLP, self).__init__()\n",
        "      self.linear_1 = Linear(32)\n",
        "      self.regularization = ActivityRegularization(1e-2)\n",
        "      self.linear_3 = Linear(10)\n",
        "\n",
        "  def call(self, inputs):\n",
        "      x = self.linear_1(inputs)\n",
        "      x = tf.nn.relu(x)\n",
        "      x = self.regularization(x)\n",
        "      return self.linear_3(x)\n",
        "    \n",
        "\n",
        "mlp = SparseMLP()\n",
        "y = mlp(tf.ones((10, 10)))\n",
        "\n",
        "print(mlp.losses)  # List containing one float32 scalar"
      ],
      "execution_count": 10,
      "outputs": [
        {
          "output_type": "stream",
          "text": [
            "[<tf.Tensor: id=73567, shape=(), dtype=float32, numpy=0.23226993>]\n"
          ],
          "name": "stdout"
        }
      ]
    },
    {
      "metadata": {
        "id": "p69GSoulV632",
        "colab_type": "text"
      },
      "cell_type": "markdown",
      "source": [
        "8) These losses are cleared by the top-level layer at the start of each forward pass -- they don't accumulate. `layer.losses` always contain only the losses created during the *last* forward pass. You would typically use these losses by summing them before computing your gradients when writing a training loop."
      ]
    },
    {
      "metadata": {
        "id": "WH8alljNVj2J",
        "colab_type": "code",
        "outputId": "bdd59aab-16d0-4fee-f9bd-814fb69314f8",
        "colab": {
          "base_uri": "https://localhost:8080/",
          "height": 187
        }
      },
      "cell_type": "code",
      "source": [
        "# Losses correspond to the *last* forward pass.\n",
        "mlp = SparseMLP()\n",
        "mlp(tf.ones((10, 10)))\n",
        "assert len(mlp.losses) == 1\n",
        "mlp(tf.ones((10, 10)))\n",
        "assert len(mlp.losses) == 1  # No accumulation.\n",
        "\n",
        "# Let's demonstrate how to use these losses in a training loop.\n",
        "\n",
        "# Prepare a dataset.\n",
        "(x_train, y_train), _ = tf.keras.datasets.mnist.load_data()\n",
        "dataset = tf.data.Dataset.from_tensor_slices(\n",
        "    (x_train.reshape(60000, 784).astype('float32') / 255, y_train))\n",
        "dataset = dataset.shuffle(buffer_size=1024).batch(64)\n",
        "\n",
        "# A new MLP.\n",
        "mlp = SparseMLP()\n",
        "\n",
        "# Loss and optimizer.\n",
        "loss_fn = tf.keras.losses.SparseCategoricalCrossentropy(from_logits=True)\n",
        "optimizer = tf.keras.optimizers.SGD(learning_rate=1e-3)\n",
        "\n",
        "for step, (x, y) in enumerate(dataset):\n",
        "  with tf.GradientTape() as tape:\n",
        "\n",
        "    # Forward pass.\n",
        "    logits = mlp(x)\n",
        "\n",
        "    # External loss value for this batch.\n",
        "    loss = loss_fn(y, logits)\n",
        "    \n",
        "    # Add the losses created during the forward pass.\n",
        "    loss += sum(mlp.losses)\n",
        "     \n",
        "    # Get gradients of weights wrt the loss.\n",
        "    gradients = tape.gradient(loss, mlp.trainable_weights)\n",
        "  \n",
        "  # Update the weights of our linear layer.\n",
        "  optimizer.apply_gradients(zip(gradients, mlp.trainable_weights))\n",
        "  \n",
        "  # Logging.\n",
        "  if step % 100 == 0:\n",
        "    print(step, float(loss))"
      ],
      "execution_count": 11,
      "outputs": [
        {
          "output_type": "stream",
          "text": [
            "0 6.312371253967285\n",
            "100 2.5329384803771973\n",
            "200 2.3832437992095947\n",
            "300 2.3720664978027344\n",
            "400 2.350461483001709\n",
            "500 2.3381080627441406\n",
            "600 2.3193042278289795\n",
            "700 2.3529601097106934\n",
            "800 2.3268256187438965\n",
            "900 2.3302135467529297\n"
          ],
          "name": "stdout"
        }
      ]
    },
    {
      "metadata": {
        "id": "jcL_zMFtZ1R8",
        "colab_type": "text"
      },
      "cell_type": "markdown",
      "source": [
        "9) Running eagerly is great for debugging, but you will get better performance by compiling your computation into static graphs. Static graphs are a researcher's best friends. You can compile any function by wrapping it in a `tf.function` decorator."
      ]
    },
    {
      "metadata": {
        "id": "2XmEPQhhY4ef",
        "colab_type": "code",
        "outputId": "d11c2d23-eb4a-4dc7-d32c-048aaa934858",
        "colab": {
          "base_uri": "https://localhost:8080/",
          "height": 187
        }
      },
      "cell_type": "code",
      "source": [
        "# Prepare our layer, loss, and optimizer.\n",
        "mlp = MLP()\n",
        "loss_fn = tf.keras.losses.SparseCategoricalCrossentropy(from_logits=True)\n",
        "optimizer = tf.keras.optimizers.SGD(learning_rate=1e-3)\n",
        "\n",
        "# Create a training step function.\n",
        "\n",
        "@tf.function  # Make it fast.\n",
        "def train_on_batch(x, y):\n",
        "  with tf.GradientTape() as tape:\n",
        "    logits = mlp(x)\n",
        "    loss = loss_fn(y, logits)\n",
        "    gradients = tape.gradient(loss, mlp.trainable_weights)\n",
        "  optimizer.apply_gradients(zip(gradients, mlp.trainable_weights))\n",
        "  return loss\n",
        "\n",
        "# Prepare a dataset.\n",
        "(x_train, y_train), _ = tf.keras.datasets.mnist.load_data()\n",
        "dataset = tf.data.Dataset.from_tensor_slices(\n",
        "    (x_train.reshape(60000, 784).astype('float32') / 255, y_train))\n",
        "dataset = dataset.shuffle(buffer_size=1024).batch(64)\n",
        "  \n",
        "for step, (x, y) in enumerate(dataset):\n",
        "  loss = train_on_batch(x, y)\n",
        "  if step % 100 == 0:\n",
        "    print(step, float(loss))"
      ],
      "execution_count": 12,
      "outputs": [
        {
          "output_type": "stream",
          "text": [
            "0 2.306180000305176\n",
            "100 2.301784038543701\n",
            "200 2.3096704483032227\n",
            "300 2.302459239959717\n",
            "400 2.3040270805358887\n",
            "500 2.3009305000305176\n",
            "600 2.301976203918457\n",
            "700 2.2945547103881836\n",
            "800 2.2995829582214355\n",
            "900 2.310793399810791\n"
          ],
          "name": "stdout"
        }
      ]
    },
    {
      "metadata": {
        "id": "8dNI9xczb8ej",
        "colab_type": "text"
      },
      "cell_type": "markdown",
      "source": [
        "10) Some layers, in particular the `BatchNormalization` layer and the `Dropout` layer, have different behaviors during training and inference. For such layers, it is standard practice to expose a `training` (boolean) argument in the `call` method.\n",
        "\n",
        "By exposing this argument in `call`, you enable the built-in training and evaluation loops (e.g. `fit`) to correctly use the layer in training and inference."
      ]
    },
    {
      "metadata": {
        "id": "uwttOFombD1F",
        "colab_type": "code",
        "colab": {}
      },
      "cell_type": "code",
      "source": [
        "class Dropout(Layer):\n",
        "  \n",
        "  def __init__(self, rate):\n",
        "    super(Dropout, self).__init__()\n",
        "    self.rate = rate\n",
        "\n",
        "  @tf.function\n",
        "  def call(self, inputs, training=None):\n",
        "    # Note that the tf.function decorator enables use\n",
        "    # to use imperative control flow like this `if`,\n",
        "    # while defining a static graph!\n",
        "    if training:\n",
        "      return tf.nn.dropout(inputs, rate=self.rate)\n",
        "    return inputs\n",
        "  \n",
        "\n",
        "class MLPWithDropout(Layer):\n",
        "\n",
        "  def __init__(self):\n",
        "      super(MLPWithDropout, self).__init__()\n",
        "      self.linear_1 = Linear(32)\n",
        "      self.dropout = Dropout(0.5)\n",
        "      self.linear_3 = Linear(10)\n",
        "\n",
        "  def call(self, inputs, training=None):\n",
        "      x = self.linear_1(inputs)\n",
        "      x = tf.nn.relu(x)\n",
        "      x = self.dropout(x, training=training)\n",
        "      return self.linear_3(x)\n",
        "    \n",
        "mlp = MLPWithDropout()\n",
        "y_train = mlp(tf.ones((2, 2)), training=True)\n",
        "y_test = mlp(tf.ones((2, 2)), training=False)\n"
      ],
      "execution_count": 0,
      "outputs": []
    },
    {
      "metadata": {
        "id": "THRG48kgmQh1",
        "colab_type": "text"
      },
      "cell_type": "markdown",
      "source": [
        "11) You have many built-in layers available, from `Dense` to `Conv2D` to `LSTM` to fancier ones like `Conv2DTranspose` or `ConvLSTM2D`. Be smart about reusing built-in functionality."
      ]
    },
    {
      "metadata": {
        "id": "euLbXDzgnFti",
        "colab_type": "text"
      },
      "cell_type": "markdown",
      "source": [
        "12) To build deep learning models, you don't have to use object-oriented programming all the time. All layers we've seen so far can also be composed functionally, like this (we call it the \"Functional API\"):"
      ]
    },
    {
      "metadata": {
        "id": "Wb9ZT-eBoBPe",
        "colab_type": "code",
        "colab": {}
      },
      "cell_type": "code",
      "source": [
        "# We use an `Input` object to describe the shape and dtype of the inputs.\n",
        "# This is the deep learning equivalent of *declaring a type*.\n",
        "# The shape argument is per-sample; it does not include the batch size.\n",
        "# The functional API focused on defining per-sample transformations.\n",
        "# The model we create will automatically batch the per-sample transformations,\n",
        "# so that it can be called on batches of data.\n",
        "inputs = tf.keras.Input(shape=(16,))\n",
        "\n",
        "# We call layers on these \"type\" objects\n",
        "# and they return updated types (new shapes/dtypes).\n",
        "x = Linear(32)(inputs) # We are reusing the Linear layer we defined earlier.\n",
        "x = Dropout(0.5)(x) # We are reusing the Dropout layer we defined earlier.\n",
        "outputs = Linear(10)(x)\n",
        "\n",
        "# A functional `Model` can be defined by specifying inputs and outputs.\n",
        "# A model is itself a layer like any other.\n",
        "model = tf.keras.Model(inputs, outputs)\n",
        "\n",
        "# A functional model already has weights, before being called on any data.\n",
        "# That's because we defined its input shape in advance (in `Input`).\n",
        "assert len(model.weights) == 4\n",
        "\n",
        "# Let's call our model on some data, for fun.\n",
        "y = model(tf.ones((2, 16)))\n",
        "assert y.shape == (2, 10)\n",
        "\n",
        "# You can pass a `training` argument in `__call__`\n",
        "# (it will get passed down to the Dropout layer).\n",
        "y = model(tf.ones((2, 16)), training=True)"
      ],
      "execution_count": 0,
      "outputs": []
    },
    {
      "metadata": {
        "id": "ABcc4nAipMyp",
        "colab_type": "text"
      },
      "cell_type": "markdown",
      "source": [
        "The Functional API tends to be more concise than subclassing, and provides a few other advantages (generally the same advantages that functional, typed languages provide over untyped OO development). However, it can only be used to define DAGs of layers -- recursive networks should be defined as `Layer` subclasses instead.\n",
        "\n",
        "Learn more about the Functional API [here](https://www.tensorflow.org/alpha/guide/keras/functional).\n",
        "\n",
        "In your research workflows, you may often find yourself mix-and-matching OO models and Functional models."
      ]
    },
    {
      "metadata": {
        "id": "XhKL2JsRqHq3",
        "colab_type": "text"
      },
      "cell_type": "markdown",
      "source": [
        "### That's all you need to get started with reimplementing most deep learning research papers in TensorFlow 2.0 and Keras!\n",
        "\n",
        "## Now for a quick research example: hypernetworks."
      ]
    },
    {
      "metadata": {
        "id": "lFnm79N-qwP3",
        "colab_type": "text"
      },
      "cell_type": "markdown",
      "source": [
        "Let's put these concepts into practice with a simple end-to-end example.\n",
        "\n",
        "A [hypernetwork](http://blog.otoro.net/2016/09/28/hyper-networks/) is a deep neural network whose weights are generated by another network (usually smaller).\n",
        "\n",
        "Let's implement a really trivial hypernetwork: we'll take the `Linear` layer we defined earlier, and we'll use it to generate the weights of... another `Linear` layer."
      ]
    },
    {
      "metadata": {
        "id": "3PlPkpKnr14L",
        "colab_type": "code",
        "outputId": "0bd9017e-1474-4aad-9104-8896186f38f8",
        "colab": {
          "base_uri": "https://localhost:8080/",
          "height": 204
        }
      },
      "cell_type": "code",
      "source": [
        "input_dim = 784\n",
        "classes = 10\n",
        "\n",
        "# The model we'll actually use (the hypernetwork).\n",
        "outer_model = Linear(classes)\n",
        "\n",
        "# It doesn't need to create its own weights, so let's mark it as already built.\n",
        "# That way, calling `outer_model` won't create new variables.\n",
        "outer_model.built = True\n",
        "\n",
        "# The model that generates the weights of the model above.\n",
        "inner_model = Linear(input_dim * classes + classes)\n",
        "\n",
        "# Loss and optimizer.\n",
        "loss_fn = tf.keras.losses.SparseCategoricalCrossentropy(from_logits=True)\n",
        "optimizer = tf.keras.optimizers.SGD(learning_rate=1e-3)\n",
        "\n",
        "# Prepare a dataset.\n",
        "(x_train, y_train), _ = tf.keras.datasets.mnist.load_data()\n",
        "dataset = tf.data.Dataset.from_tensor_slices(\n",
        "    (x_train.reshape(60000, 784).astype('float32') / 255, y_train))\n",
        "\n",
        "# We'll use a batch size of 1 for this experiment.\n",
        "dataset = dataset.shuffle(buffer_size=1024).batch(1)\n",
        "  \n",
        "losses = []  # Keep track of the losses over time.\n",
        "for step, (x, y) in enumerate(dataset):\n",
        "  with tf.GradientTape() as tape:\n",
        "\n",
        "    # Predict weights for the outer model.\n",
        "    weights_pred = inner_model(x)\n",
        "\n",
        "    # Reshape them to the expected shapes for w and b for the outer model.\n",
        "    w_pred = tf.reshape(weights_pred[:, :-classes], (input_dim, classes))\n",
        "    b_pred = tf.reshape(weights_pred[:, -classes:], (classes,))\n",
        "    \n",
        "    # Set the weight predictions as the weight variables on the outer model.\n",
        "    outer_model.w = w_pred\n",
        "    outer_model.b = b_pred\n",
        "    \n",
        "    # Inference on the outer model.\n",
        "    preds = outer_model(x)\n",
        "    loss = loss_fn(y, preds)\n",
        "\n",
        "  # Train only inner model.\n",
        "  grads = tape.gradient(loss, inner_model.trainable_weights)\n",
        "  optimizer.apply_gradients(zip(grads, inner_model.trainable_weights))\n",
        "  \n",
        "  # Logging.\n",
        "  losses.append(float(loss))\n",
        "  if step % 100 == 0:\n",
        "    print(step, sum(losses) / len(losses))\n",
        "    \n",
        "  # Stop after 1000 steps.\n",
        "  if step >= 1000:\n",
        "    break"
      ],
      "execution_count": 15,
      "outputs": [
        {
          "output_type": "stream",
          "text": [
            "0 12.5589017868042\n",
            "100 4.768053405829208\n",
            "200 3.288215119380115\n",
            "300 2.944460560511529\n",
            "400 2.47045986208493\n",
            "500 2.3251449641156823\n",
            "600 2.176233513761083\n",
            "700 2.0036057443016873\n",
            "800 1.8577934748203133\n",
            "900 1.7495915554592563\n",
            "1000 1.7572440114531558\n"
          ],
          "name": "stdout"
        }
      ]
    }
  ]
}